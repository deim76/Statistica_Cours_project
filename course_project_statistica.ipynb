{
 "cells": [
  {
   "cell_type": "code",
   "execution_count": 5,
   "metadata": {},
   "outputs": [],
   "source": [
    "#pip install pandas-datareader"
   ]
  },
  {
   "cell_type": "markdown",
   "metadata": {},
   "source": [
    "# Анализ Зависимость индекса Мосбиржи и отдельных эмитентов входящих в индекс от цен на нефть и цен на драг. металы"
   ]
  },
  {
   "cell_type": "markdown",
   "metadata": {},
   "source": [
    "Цель данной работы проанализировать зависимость биржевой цены индекса Мосбиржи от цены на нефть и цены на золото, а также построить уравнение линейной регрессии (если возможно) для предсказания данных. Все данные взяты из открытого источника yahho.finance"
   ]
  },
  {
   "cell_type": "code",
   "execution_count": 327,
   "metadata": {},
   "outputs": [],
   "source": [
    "from pandas_datareader import data as dr\n",
    "import numpy as np\n",
    "import matplotlib.pyplot as plt\n",
    "import pandas as pd\n",
    "import seaborn as sns\n",
    "from scipy import stats\n",
    "from sklearn.linear_model import LinearRegression\n",
    "from sklearn.model_selection import train_test_split\n",
    "from sklearn.metrics import r2_score as r2, mean_absolute_error as mae, mean_squared_error as mse"
   ]
  },
  {
   "cell_type": "markdown",
   "metadata": {},
   "source": [
    "# 1. Создание DataSet"
   ]
  },
  {
   "cell_type": "code",
   "execution_count": 328,
   "metadata": {},
   "outputs": [],
   "source": [
    "tickers = ['IMOEX.ME','CL=F','GC=F','GAZP.ME','ALRS.ME','SBER.ME','AFLT.ME']\n",
    "\n",
    "start_date ='2015-01-01'\n",
    "end_date = '2020-03-31'\n",
    "\n",
    "data = dr.DataReader(tickers,'yahoo', start_date, end_date)"
   ]
  },
  {
   "cell_type": "markdown",
   "metadata": {},
   "source": [
    "Описание датасета:\n",
    "\n",
    "'IMOEX.ME'- индекс Мосбиржы,\n",
    "\n",
    "'CL=F'- нефть Brent USD\n",
    "\n",
    "'GC=F' золото\n",
    "\n",
    "'GAZP.ME'- Газпром\n",
    "\n",
    "'ALRS.ME' -Алроса\n",
    "\n",
    "'SBER.ME' - Сбербанк \n",
    "\n",
    "'AFLT.ME' -аэрофлот\n",
    "\n",
    "\n"
   ]
  },
  {
   "cell_type": "code",
   "execution_count": 329,
   "metadata": {},
   "outputs": [
    {
     "data": {
      "text/html": [
       "<div>\n",
       "<style scoped>\n",
       "    .dataframe tbody tr th:only-of-type {\n",
       "        vertical-align: middle;\n",
       "    }\n",
       "\n",
       "    .dataframe tbody tr th {\n",
       "        vertical-align: top;\n",
       "    }\n",
       "\n",
       "    .dataframe thead tr th {\n",
       "        text-align: left;\n",
       "    }\n",
       "\n",
       "    .dataframe thead tr:last-of-type th {\n",
       "        text-align: right;\n",
       "    }\n",
       "</style>\n",
       "<table border=\"1\" class=\"dataframe\">\n",
       "  <thead>\n",
       "    <tr>\n",
       "      <th>Attributes</th>\n",
       "      <th colspan=\"7\" halign=\"left\">Adj Close</th>\n",
       "      <th colspan=\"3\" halign=\"left\">Close</th>\n",
       "      <th>...</th>\n",
       "      <th colspan=\"3\" halign=\"left\">Open</th>\n",
       "      <th colspan=\"7\" halign=\"left\">Volume</th>\n",
       "    </tr>\n",
       "    <tr>\n",
       "      <th>Symbols</th>\n",
       "      <th>IMOEX.ME</th>\n",
       "      <th>CL=F</th>\n",
       "      <th>GC=F</th>\n",
       "      <th>GAZP.ME</th>\n",
       "      <th>ALRS.ME</th>\n",
       "      <th>SBER.ME</th>\n",
       "      <th>AFLT.ME</th>\n",
       "      <th>IMOEX.ME</th>\n",
       "      <th>CL=F</th>\n",
       "      <th>GC=F</th>\n",
       "      <th>...</th>\n",
       "      <th>ALRS.ME</th>\n",
       "      <th>SBER.ME</th>\n",
       "      <th>AFLT.ME</th>\n",
       "      <th>IMOEX.ME</th>\n",
       "      <th>CL=F</th>\n",
       "      <th>GC=F</th>\n",
       "      <th>GAZP.ME</th>\n",
       "      <th>ALRS.ME</th>\n",
       "      <th>SBER.ME</th>\n",
       "      <th>AFLT.ME</th>\n",
       "    </tr>\n",
       "    <tr>\n",
       "      <th>Date</th>\n",
       "      <th></th>\n",
       "      <th></th>\n",
       "      <th></th>\n",
       "      <th></th>\n",
       "      <th></th>\n",
       "      <th></th>\n",
       "      <th></th>\n",
       "      <th></th>\n",
       "      <th></th>\n",
       "      <th></th>\n",
       "      <th></th>\n",
       "      <th></th>\n",
       "      <th></th>\n",
       "      <th></th>\n",
       "      <th></th>\n",
       "      <th></th>\n",
       "      <th></th>\n",
       "      <th></th>\n",
       "      <th></th>\n",
       "      <th></th>\n",
       "      <th></th>\n",
       "    </tr>\n",
       "  </thead>\n",
       "  <tbody>\n",
       "    <tr>\n",
       "      <td>2014-12-31</td>\n",
       "      <td>NaN</td>\n",
       "      <td>53.270000</td>\n",
       "      <td>1183.900024</td>\n",
       "      <td>NaN</td>\n",
       "      <td>NaN</td>\n",
       "      <td>NaN</td>\n",
       "      <td>NaN</td>\n",
       "      <td>NaN</td>\n",
       "      <td>53.270000</td>\n",
       "      <td>1183.900024</td>\n",
       "      <td>...</td>\n",
       "      <td>NaN</td>\n",
       "      <td>NaN</td>\n",
       "      <td>NaN</td>\n",
       "      <td>NaN</td>\n",
       "      <td>218557.0</td>\n",
       "      <td>191.0</td>\n",
       "      <td>NaN</td>\n",
       "      <td>NaN</td>\n",
       "      <td>NaN</td>\n",
       "      <td>NaN</td>\n",
       "    </tr>\n",
       "    <tr>\n",
       "      <td>2015-01-02</td>\n",
       "      <td>NaN</td>\n",
       "      <td>52.689999</td>\n",
       "      <td>1186.000000</td>\n",
       "      <td>NaN</td>\n",
       "      <td>NaN</td>\n",
       "      <td>NaN</td>\n",
       "      <td>NaN</td>\n",
       "      <td>NaN</td>\n",
       "      <td>52.689999</td>\n",
       "      <td>1186.000000</td>\n",
       "      <td>...</td>\n",
       "      <td>NaN</td>\n",
       "      <td>NaN</td>\n",
       "      <td>NaN</td>\n",
       "      <td>NaN</td>\n",
       "      <td>233516.0</td>\n",
       "      <td>92.0</td>\n",
       "      <td>NaN</td>\n",
       "      <td>NaN</td>\n",
       "      <td>NaN</td>\n",
       "      <td>NaN</td>\n",
       "    </tr>\n",
       "    <tr>\n",
       "      <td>2015-01-05</td>\n",
       "      <td>NaN</td>\n",
       "      <td>50.040001</td>\n",
       "      <td>1203.900024</td>\n",
       "      <td>92.627869</td>\n",
       "      <td>35.736744</td>\n",
       "      <td>46.858410</td>\n",
       "      <td>27.113356</td>\n",
       "      <td>NaN</td>\n",
       "      <td>50.040001</td>\n",
       "      <td>1203.900024</td>\n",
       "      <td>...</td>\n",
       "      <td>63.950001</td>\n",
       "      <td>54.02</td>\n",
       "      <td>31.250000</td>\n",
       "      <td>NaN</td>\n",
       "      <td>268708.0</td>\n",
       "      <td>138.0</td>\n",
       "      <td>18223370.0</td>\n",
       "      <td>4150300.0</td>\n",
       "      <td>63231040.0</td>\n",
       "      <td>982201.0</td>\n",
       "    </tr>\n",
       "    <tr>\n",
       "      <td>2015-01-06</td>\n",
       "      <td>NaN</td>\n",
       "      <td>47.930000</td>\n",
       "      <td>1219.300049</td>\n",
       "      <td>96.064682</td>\n",
       "      <td>36.269421</td>\n",
       "      <td>48.446125</td>\n",
       "      <td>26.999054</td>\n",
       "      <td>NaN</td>\n",
       "      <td>47.930000</td>\n",
       "      <td>1219.300049</td>\n",
       "      <td>...</td>\n",
       "      <td>60.200001</td>\n",
       "      <td>56.00</td>\n",
       "      <td>32.959999</td>\n",
       "      <td>NaN</td>\n",
       "      <td>375782.0</td>\n",
       "      <td>470.0</td>\n",
       "      <td>25297090.0</td>\n",
       "      <td>2560045.0</td>\n",
       "      <td>70269700.0</td>\n",
       "      <td>768000.0</td>\n",
       "    </tr>\n",
       "    <tr>\n",
       "      <td>2015-01-07</td>\n",
       "      <td>NaN</td>\n",
       "      <td>48.650002</td>\n",
       "      <td>1210.599976</td>\n",
       "      <td>NaN</td>\n",
       "      <td>NaN</td>\n",
       "      <td>NaN</td>\n",
       "      <td>NaN</td>\n",
       "      <td>NaN</td>\n",
       "      <td>48.650002</td>\n",
       "      <td>1210.599976</td>\n",
       "      <td>...</td>\n",
       "      <td>NaN</td>\n",
       "      <td>NaN</td>\n",
       "      <td>NaN</td>\n",
       "      <td>NaN</td>\n",
       "      <td>451642.0</td>\n",
       "      <td>97.0</td>\n",
       "      <td>NaN</td>\n",
       "      <td>NaN</td>\n",
       "      <td>NaN</td>\n",
       "      <td>NaN</td>\n",
       "    </tr>\n",
       "  </tbody>\n",
       "</table>\n",
       "<p>5 rows × 42 columns</p>\n",
       "</div>"
      ],
      "text/plain": [
       "Attributes Adj Close                                                           \\\n",
       "Symbols     IMOEX.ME       CL=F         GC=F    GAZP.ME    ALRS.ME    SBER.ME   \n",
       "Date                                                                            \n",
       "2014-12-31       NaN  53.270000  1183.900024        NaN        NaN        NaN   \n",
       "2015-01-02       NaN  52.689999  1186.000000        NaN        NaN        NaN   \n",
       "2015-01-05       NaN  50.040001  1203.900024  92.627869  35.736744  46.858410   \n",
       "2015-01-06       NaN  47.930000  1219.300049  96.064682  36.269421  48.446125   \n",
       "2015-01-07       NaN  48.650002  1210.599976        NaN        NaN        NaN   \n",
       "\n",
       "Attributes               Close                          ...       Open  \\\n",
       "Symbols       AFLT.ME IMOEX.ME       CL=F         GC=F  ...    ALRS.ME   \n",
       "Date                                                    ...              \n",
       "2014-12-31        NaN      NaN  53.270000  1183.900024  ...        NaN   \n",
       "2015-01-02        NaN      NaN  52.689999  1186.000000  ...        NaN   \n",
       "2015-01-05  27.113356      NaN  50.040001  1203.900024  ...  63.950001   \n",
       "2015-01-06  26.999054      NaN  47.930000  1219.300049  ...  60.200001   \n",
       "2015-01-07        NaN      NaN  48.650002  1210.599976  ...        NaN   \n",
       "\n",
       "Attributes                      Volume                               \\\n",
       "Symbols    SBER.ME    AFLT.ME IMOEX.ME      CL=F   GC=F     GAZP.ME   \n",
       "Date                                                                  \n",
       "2014-12-31     NaN        NaN      NaN  218557.0  191.0         NaN   \n",
       "2015-01-02     NaN        NaN      NaN  233516.0   92.0         NaN   \n",
       "2015-01-05   54.02  31.250000      NaN  268708.0  138.0  18223370.0   \n",
       "2015-01-06   56.00  32.959999      NaN  375782.0  470.0  25297090.0   \n",
       "2015-01-07     NaN        NaN      NaN  451642.0   97.0         NaN   \n",
       "\n",
       "Attributes                                   \n",
       "Symbols       ALRS.ME     SBER.ME   AFLT.ME  \n",
       "Date                                         \n",
       "2014-12-31        NaN         NaN       NaN  \n",
       "2015-01-02        NaN         NaN       NaN  \n",
       "2015-01-05  4150300.0  63231040.0  982201.0  \n",
       "2015-01-06  2560045.0  70269700.0  768000.0  \n",
       "2015-01-07        NaN         NaN       NaN  \n",
       "\n",
       "[5 rows x 42 columns]"
      ]
     },
     "execution_count": 329,
     "metadata": {},
     "output_type": "execute_result"
    }
   ],
   "source": [
    "data.head()"
   ]
  },
  {
   "cell_type": "markdown",
   "metadata": {},
   "source": [
    "в данной работе оценка идет по цене закрытия остальные колонки выкидываеи"
   ]
  },
  {
   "cell_type": "code",
   "execution_count": 330,
   "metadata": {},
   "outputs": [
    {
     "data": {
      "text/html": [
       "<div>\n",
       "<style scoped>\n",
       "    .dataframe tbody tr th:only-of-type {\n",
       "        vertical-align: middle;\n",
       "    }\n",
       "\n",
       "    .dataframe tbody tr th {\n",
       "        vertical-align: top;\n",
       "    }\n",
       "\n",
       "    .dataframe thead th {\n",
       "        text-align: right;\n",
       "    }\n",
       "</style>\n",
       "<table border=\"1\" class=\"dataframe\">\n",
       "  <thead>\n",
       "    <tr style=\"text-align: right;\">\n",
       "      <th>Symbols</th>\n",
       "      <th>IMOEX.ME</th>\n",
       "      <th>CL=F</th>\n",
       "      <th>GC=F</th>\n",
       "      <th>GAZP.ME</th>\n",
       "      <th>ALRS.ME</th>\n",
       "      <th>SBER.ME</th>\n",
       "      <th>AFLT.ME</th>\n",
       "    </tr>\n",
       "    <tr>\n",
       "      <th>Date</th>\n",
       "      <th></th>\n",
       "      <th></th>\n",
       "      <th></th>\n",
       "      <th></th>\n",
       "      <th></th>\n",
       "      <th></th>\n",
       "      <th></th>\n",
       "    </tr>\n",
       "  </thead>\n",
       "  <tbody>\n",
       "    <tr>\n",
       "      <td>2014-12-31</td>\n",
       "      <td>NaN</td>\n",
       "      <td>53.270000</td>\n",
       "      <td>1183.900024</td>\n",
       "      <td>NaN</td>\n",
       "      <td>NaN</td>\n",
       "      <td>NaN</td>\n",
       "      <td>NaN</td>\n",
       "    </tr>\n",
       "    <tr>\n",
       "      <td>2015-01-02</td>\n",
       "      <td>NaN</td>\n",
       "      <td>52.689999</td>\n",
       "      <td>1186.000000</td>\n",
       "      <td>NaN</td>\n",
       "      <td>NaN</td>\n",
       "      <td>NaN</td>\n",
       "      <td>NaN</td>\n",
       "    </tr>\n",
       "    <tr>\n",
       "      <td>2015-01-05</td>\n",
       "      <td>NaN</td>\n",
       "      <td>50.040001</td>\n",
       "      <td>1203.900024</td>\n",
       "      <td>133.949997</td>\n",
       "      <td>60.380001</td>\n",
       "      <td>56.369999</td>\n",
       "      <td>33.209999</td>\n",
       "    </tr>\n",
       "    <tr>\n",
       "      <td>2015-01-06</td>\n",
       "      <td>NaN</td>\n",
       "      <td>47.930000</td>\n",
       "      <td>1219.300049</td>\n",
       "      <td>138.919998</td>\n",
       "      <td>61.279999</td>\n",
       "      <td>58.279999</td>\n",
       "      <td>33.070000</td>\n",
       "    </tr>\n",
       "    <tr>\n",
       "      <td>2015-01-07</td>\n",
       "      <td>NaN</td>\n",
       "      <td>48.650002</td>\n",
       "      <td>1210.599976</td>\n",
       "      <td>NaN</td>\n",
       "      <td>NaN</td>\n",
       "      <td>NaN</td>\n",
       "      <td>NaN</td>\n",
       "    </tr>\n",
       "  </tbody>\n",
       "</table>\n",
       "</div>"
      ],
      "text/plain": [
       "Symbols     IMOEX.ME       CL=F         GC=F     GAZP.ME    ALRS.ME  \\\n",
       "Date                                                                  \n",
       "2014-12-31       NaN  53.270000  1183.900024         NaN        NaN   \n",
       "2015-01-02       NaN  52.689999  1186.000000         NaN        NaN   \n",
       "2015-01-05       NaN  50.040001  1203.900024  133.949997  60.380001   \n",
       "2015-01-06       NaN  47.930000  1219.300049  138.919998  61.279999   \n",
       "2015-01-07       NaN  48.650002  1210.599976         NaN        NaN   \n",
       "\n",
       "Symbols       SBER.ME    AFLT.ME  \n",
       "Date                              \n",
       "2014-12-31        NaN        NaN  \n",
       "2015-01-02        NaN        NaN  \n",
       "2015-01-05  56.369999  33.209999  \n",
       "2015-01-06  58.279999  33.070000  \n",
       "2015-01-07        NaN        NaN  "
      ]
     },
     "execution_count": 330,
     "metadata": {},
     "output_type": "execute_result"
    }
   ],
   "source": [
    "data=data['Close']\n",
    "data.head()"
   ]
  },
  {
   "cell_type": "markdown",
   "metadata": {},
   "source": [
    "нулевые значения связаны с графиками работы бирж т.к выборка достаточно большая также удаляем нулевые значения"
   ]
  },
  {
   "cell_type": "code",
   "execution_count": 331,
   "metadata": {},
   "outputs": [
    {
     "data": {
      "text/html": [
       "<div>\n",
       "<style scoped>\n",
       "    .dataframe tbody tr th:only-of-type {\n",
       "        vertical-align: middle;\n",
       "    }\n",
       "\n",
       "    .dataframe tbody tr th {\n",
       "        vertical-align: top;\n",
       "    }\n",
       "\n",
       "    .dataframe thead th {\n",
       "        text-align: right;\n",
       "    }\n",
       "</style>\n",
       "<table border=\"1\" class=\"dataframe\">\n",
       "  <thead>\n",
       "    <tr style=\"text-align: right;\">\n",
       "      <th>Symbols</th>\n",
       "      <th>IMOEX.ME</th>\n",
       "      <th>CL=F</th>\n",
       "      <th>GC=F</th>\n",
       "      <th>GAZP.ME</th>\n",
       "      <th>ALRS.ME</th>\n",
       "      <th>SBER.ME</th>\n",
       "      <th>AFLT.ME</th>\n",
       "    </tr>\n",
       "    <tr>\n",
       "      <th>Date</th>\n",
       "      <th></th>\n",
       "      <th></th>\n",
       "      <th></th>\n",
       "      <th></th>\n",
       "      <th></th>\n",
       "      <th></th>\n",
       "      <th></th>\n",
       "    </tr>\n",
       "  </thead>\n",
       "  <tbody>\n",
       "    <tr>\n",
       "      <td>2015-01-16</td>\n",
       "      <td>1591.430054</td>\n",
       "      <td>48.689999</td>\n",
       "      <td>1276.900024</td>\n",
       "      <td>149.600006</td>\n",
       "      <td>69.550003</td>\n",
       "      <td>61.990002</td>\n",
       "      <td>36.049999</td>\n",
       "    </tr>\n",
       "    <tr>\n",
       "      <td>2015-01-20</td>\n",
       "      <td>1570.969971</td>\n",
       "      <td>46.389999</td>\n",
       "      <td>1294.199951</td>\n",
       "      <td>145.750000</td>\n",
       "      <td>71.000000</td>\n",
       "      <td>60.799999</td>\n",
       "      <td>37.200001</td>\n",
       "    </tr>\n",
       "    <tr>\n",
       "      <td>2015-01-21</td>\n",
       "      <td>1618.170044</td>\n",
       "      <td>47.779999</td>\n",
       "      <td>1293.699951</td>\n",
       "      <td>148.800003</td>\n",
       "      <td>76.500000</td>\n",
       "      <td>62.799999</td>\n",
       "      <td>38.099998</td>\n",
       "    </tr>\n",
       "    <tr>\n",
       "      <td>2015-01-22</td>\n",
       "      <td>1666.560059</td>\n",
       "      <td>46.310001</td>\n",
       "      <td>1300.699951</td>\n",
       "      <td>151.500000</td>\n",
       "      <td>77.500000</td>\n",
       "      <td>64.349998</td>\n",
       "      <td>39.549999</td>\n",
       "    </tr>\n",
       "    <tr>\n",
       "      <td>2015-01-23</td>\n",
       "      <td>1671.800049</td>\n",
       "      <td>45.590000</td>\n",
       "      <td>1292.599976</td>\n",
       "      <td>152.830002</td>\n",
       "      <td>76.000000</td>\n",
       "      <td>64.449997</td>\n",
       "      <td>40.150002</td>\n",
       "    </tr>\n",
       "  </tbody>\n",
       "</table>\n",
       "</div>"
      ],
      "text/plain": [
       "Symbols        IMOEX.ME       CL=F         GC=F     GAZP.ME    ALRS.ME  \\\n",
       "Date                                                                     \n",
       "2015-01-16  1591.430054  48.689999  1276.900024  149.600006  69.550003   \n",
       "2015-01-20  1570.969971  46.389999  1294.199951  145.750000  71.000000   \n",
       "2015-01-21  1618.170044  47.779999  1293.699951  148.800003  76.500000   \n",
       "2015-01-22  1666.560059  46.310001  1300.699951  151.500000  77.500000   \n",
       "2015-01-23  1671.800049  45.590000  1292.599976  152.830002  76.000000   \n",
       "\n",
       "Symbols       SBER.ME    AFLT.ME  \n",
       "Date                              \n",
       "2015-01-16  61.990002  36.049999  \n",
       "2015-01-20  60.799999  37.200001  \n",
       "2015-01-21  62.799999  38.099998  \n",
       "2015-01-22  64.349998  39.549999  \n",
       "2015-01-23  64.449997  40.150002  "
      ]
     },
     "execution_count": 331,
     "metadata": {},
     "output_type": "execute_result"
    }
   ],
   "source": [
    "data=data[data['IMOEX.ME'].notnull()]\n",
    "data=data[data['CL=F'].notnull()]\n",
    "data=data[data['GC=F'].notnull()]\n",
    "data.head()"
   ]
  },
  {
   "cell_type": "markdown",
   "metadata": {},
   "source": [
    "получен итоговый датасет"
   ]
  },
  {
   "cell_type": "markdown",
   "metadata": {},
   "source": [
    "# 2. Анализ датасета"
   ]
  },
  {
   "cell_type": "code",
   "execution_count": 332,
   "metadata": {},
   "outputs": [
    {
     "data": {
      "text/html": [
       "<div>\n",
       "<style scoped>\n",
       "    .dataframe tbody tr th:only-of-type {\n",
       "        vertical-align: middle;\n",
       "    }\n",
       "\n",
       "    .dataframe tbody tr th {\n",
       "        vertical-align: top;\n",
       "    }\n",
       "\n",
       "    .dataframe thead th {\n",
       "        text-align: right;\n",
       "    }\n",
       "</style>\n",
       "<table border=\"1\" class=\"dataframe\">\n",
       "  <thead>\n",
       "    <tr style=\"text-align: right;\">\n",
       "      <th>Symbols</th>\n",
       "      <th>IMOEX.ME</th>\n",
       "      <th>CL=F</th>\n",
       "      <th>GC=F</th>\n",
       "      <th>GAZP.ME</th>\n",
       "      <th>ALRS.ME</th>\n",
       "      <th>SBER.ME</th>\n",
       "      <th>AFLT.ME</th>\n",
       "    </tr>\n",
       "  </thead>\n",
       "  <tbody>\n",
       "    <tr>\n",
       "      <td>count</td>\n",
       "      <td>1247.000000</td>\n",
       "      <td>1247.000000</td>\n",
       "      <td>1247.000000</td>\n",
       "      <td>1247.000000</td>\n",
       "      <td>1247.000000</td>\n",
       "      <td>1247.000000</td>\n",
       "      <td>1247.000000</td>\n",
       "    </tr>\n",
       "    <tr>\n",
       "      <td>mean</td>\n",
       "      <td>2168.484442</td>\n",
       "      <td>52.653504</td>\n",
       "      <td>1280.038893</td>\n",
       "      <td>157.070297</td>\n",
       "      <td>81.335549</td>\n",
       "      <td>169.141379</td>\n",
       "      <td>107.758196</td>\n",
       "    </tr>\n",
       "    <tr>\n",
       "      <td>std</td>\n",
       "      <td>390.110606</td>\n",
       "      <td>9.644295</td>\n",
       "      <td>118.992423</td>\n",
       "      <td>35.929387</td>\n",
       "      <td>13.487217</td>\n",
       "      <td>59.671364</td>\n",
       "      <td>47.209092</td>\n",
       "    </tr>\n",
       "    <tr>\n",
       "      <td>min</td>\n",
       "      <td>1570.969971</td>\n",
       "      <td>20.280001</td>\n",
       "      <td>1050.800049</td>\n",
       "      <td>115.349998</td>\n",
       "      <td>48.959999</td>\n",
       "      <td>60.490002</td>\n",
       "      <td>32.500000</td>\n",
       "    </tr>\n",
       "    <tr>\n",
       "      <td>25%</td>\n",
       "      <td>1879.695007</td>\n",
       "      <td>46.690001</td>\n",
       "      <td>1206.350037</td>\n",
       "      <td>136.555000</td>\n",
       "      <td>71.650002</td>\n",
       "      <td>121.014999</td>\n",
       "      <td>76.160000</td>\n",
       "    </tr>\n",
       "    <tr>\n",
       "      <td>50%</td>\n",
       "      <td>2098.149902</td>\n",
       "      <td>52.240002</td>\n",
       "      <td>1267.199951</td>\n",
       "      <td>145.000000</td>\n",
       "      <td>81.250000</td>\n",
       "      <td>174.600006</td>\n",
       "      <td>104.480003</td>\n",
       "    </tr>\n",
       "    <tr>\n",
       "      <td>75%</td>\n",
       "      <td>2403.944946</td>\n",
       "      <td>58.815001</td>\n",
       "      <td>1321.500000</td>\n",
       "      <td>158.459999</td>\n",
       "      <td>92.614998</td>\n",
       "      <td>222.245003</td>\n",
       "      <td>140.399994</td>\n",
       "    </tr>\n",
       "    <tr>\n",
       "      <td>max</td>\n",
       "      <td>3209.219971</td>\n",
       "      <td>76.410004</td>\n",
       "      <td>1696.099976</td>\n",
       "      <td>270.739990</td>\n",
       "      <td>107.699997</td>\n",
       "      <td>280.470001</td>\n",
       "      <td>225.000000</td>\n",
       "    </tr>\n",
       "  </tbody>\n",
       "</table>\n",
       "</div>"
      ],
      "text/plain": [
       "Symbols     IMOEX.ME         CL=F         GC=F      GAZP.ME      ALRS.ME  \\\n",
       "count    1247.000000  1247.000000  1247.000000  1247.000000  1247.000000   \n",
       "mean     2168.484442    52.653504  1280.038893   157.070297    81.335549   \n",
       "std       390.110606     9.644295   118.992423    35.929387    13.487217   \n",
       "min      1570.969971    20.280001  1050.800049   115.349998    48.959999   \n",
       "25%      1879.695007    46.690001  1206.350037   136.555000    71.650002   \n",
       "50%      2098.149902    52.240002  1267.199951   145.000000    81.250000   \n",
       "75%      2403.944946    58.815001  1321.500000   158.459999    92.614998   \n",
       "max      3209.219971    76.410004  1696.099976   270.739990   107.699997   \n",
       "\n",
       "Symbols      SBER.ME      AFLT.ME  \n",
       "count    1247.000000  1247.000000  \n",
       "mean      169.141379   107.758196  \n",
       "std        59.671364    47.209092  \n",
       "min        60.490002    32.500000  \n",
       "25%       121.014999    76.160000  \n",
       "50%       174.600006   104.480003  \n",
       "75%       222.245003   140.399994  \n",
       "max       280.470001   225.000000  "
      ]
     },
     "execution_count": 332,
     "metadata": {},
     "output_type": "execute_result"
    }
   ],
   "source": [
    "data.describe()"
   ]
  },
  {
   "cell_type": "markdown",
   "metadata": {},
   "source": [
    "средне квадратичное отклонение"
   ]
  },
  {
   "cell_type": "code",
   "execution_count": 333,
   "metadata": {},
   "outputs": [
    {
     "data": {
      "text/plain": [
       "Symbols\n",
       "IMOEX.ME    835.588764\n",
       "CL=F        425.413213\n",
       "GC=F        454.134483\n",
       "GAZP.ME     394.688811\n",
       "ALRS.ME     416.777527\n",
       "SBER.ME     393.284668\n",
       "AFLT.ME     408.246812\n",
       "dtype: float64"
      ]
     },
     "execution_count": 333,
     "metadata": {},
     "output_type": "execute_result"
    }
   ],
   "source": [
    "data.describe().std()"
   ]
  },
  {
   "cell_type": "markdown",
   "metadata": {},
   "source": [
    "Дисперсия"
   ]
  },
  {
   "cell_type": "code",
   "execution_count": 334,
   "metadata": {},
   "outputs": [
    {
     "data": {
      "text/plain": [
       "Symbols\n",
       "IMOEX.ME    698208.582151\n",
       "CL=F        180976.401829\n",
       "GC=F        206238.128630\n",
       "GAZP.ME     155779.257809\n",
       "ALRS.ME     173703.506612\n",
       "SBER.ME     154672.830160\n",
       "AFLT.ME     166665.459129\n",
       "dtype: float64"
      ]
     },
     "execution_count": 334,
     "metadata": {},
     "output_type": "execute_result"
    }
   ],
   "source": [
    "data.describe().var()"
   ]
  },
  {
   "cell_type": "code",
   "execution_count": 335,
   "metadata": {},
   "outputs": [],
   "source": [
    "def show_plot(index_name):\n",
    "    plt.figure(figsize = (8, 4))\n",
    "\n",
    "    plt.subplot(121)\n",
    "    data[index_name].hist()\n",
    "    plt.ylabel('count')\n",
    "    plt.xlabel(index_name)\n",
    "\n",
    "    plt.subplot(122)\n",
    "    sns.kdeplot(data[index_name], shade=True, legend=False)\n",
    "    plt.xlabel(index_name)\n",
    "\n",
    "    plt.suptitle('Distribution of '+ index_name)\n",
    "\n",
    "\n",
    "    plt.show()"
   ]
  },
  {
   "cell_type": "code",
   "execution_count": 336,
   "metadata": {},
   "outputs": [
    {
     "data": {
      "image/png": "[encoded data removed]",
      "text/plain": [
       "<Figure size 576x288 with 2 Axes>"
      ]
     },
     "metadata": {
      "needs_background": "light"
     },
     "output_type": "display_data"
    },
    {
     "data": {
      "image/png": "[encoded data removed]",
      "text/plain": [
       "<Figure size 576x288 with 2 Axes>"
      ]
     },
     "metadata": {
      "needs_background": "light"
     },
     "output_type": "display_data"
    },
    {
     "data": {
      "image/png": "[encoded data removed]",
      "text/plain": [
       "<Figure size 576x288 with 2 Axes>"
      ]
     },
     "metadata": {
      "needs_background": "light"
     },
     "output_type": "display_data"
    },
    {
     "data": {
      "image/png": "[encoded data removed]",
      "text/plain": [
       "<Figure size 576x288 with 2 Axes>"
      ]
     },
     "metadata": {
      "needs_background": "light"
     },
     "output_type": "display_data"
    },
    {
     "data": {
      "image/png": "[encoded data removed]",
      "text/plain": [
       "<Figure size 576x288 with 2 Axes>"
      ]
     },
     "metadata": {
      "needs_background": "light"
     },
     "output_type": "display_data"
    },
    {
     "data": {
      "image/png": "[encoded data removed]",
      "text/plain": [
       "<Figure size 576x288 with 2 Axes>"
      ]
     },
     "metadata": {
      "needs_background": "light"
     },
     "output_type": "display_data"
    }
   ],
   "source": [
    "show_plot('IMOEX.ME')\n",
    "show_plot('CL=F')\n",
    "show_plot('GAZP.ME')\n",
    "show_plot('ALRS.ME')\n",
    "show_plot('SBER.ME')\n",
    "show_plot('AFLT.ME')"
   ]
  },
  {
   "cell_type": "markdown",
   "metadata": {},
   "source": [
    "коэффицент корреляции Пирсона"
   ]
  },
  {
   "cell_type": "code",
   "execution_count": 337,
   "metadata": {},
   "outputs": [
    {
     "data": {
      "text/html": [
       "<div>\n",
       "<style scoped>\n",
       "    .dataframe tbody tr th:only-of-type {\n",
       "        vertical-align: middle;\n",
       "    }\n",
       "\n",
       "    .dataframe tbody tr th {\n",
       "        vertical-align: top;\n",
       "    }\n",
       "\n",
       "    .dataframe thead th {\n",
       "        text-align: right;\n",
       "    }\n",
       "</style>\n",
       "<table border=\"1\" class=\"dataframe\">\n",
       "  <thead>\n",
       "    <tr style=\"text-align: right;\">\n",
       "      <th>Symbols</th>\n",
       "      <th>IMOEX.ME</th>\n",
       "      <th>CL=F</th>\n",
       "      <th>GC=F</th>\n",
       "      <th>GAZP.ME</th>\n",
       "      <th>ALRS.ME</th>\n",
       "      <th>SBER.ME</th>\n",
       "      <th>AFLT.ME</th>\n",
       "    </tr>\n",
       "    <tr>\n",
       "      <th>Symbols</th>\n",
       "      <th></th>\n",
       "      <th></th>\n",
       "      <th></th>\n",
       "      <th></th>\n",
       "      <th></th>\n",
       "      <th></th>\n",
       "      <th></th>\n",
       "    </tr>\n",
       "  </thead>\n",
       "  <tbody>\n",
       "    <tr>\n",
       "      <td>IMOEX.ME</td>\n",
       "      <td>1.000000</td>\n",
       "      <td>0.458319</td>\n",
       "      <td>0.765463</td>\n",
       "      <td>0.805626</td>\n",
       "      <td>0.460002</td>\n",
       "      <td>0.877502</td>\n",
       "      <td>0.273406</td>\n",
       "    </tr>\n",
       "    <tr>\n",
       "      <td>CL=F</td>\n",
       "      <td>0.458319</td>\n",
       "      <td>1.000000</td>\n",
       "      <td>0.140387</td>\n",
       "      <td>0.212504</td>\n",
       "      <td>0.575740</td>\n",
       "      <td>0.553099</td>\n",
       "      <td>0.252953</td>\n",
       "    </tr>\n",
       "    <tr>\n",
       "      <td>GC=F</td>\n",
       "      <td>0.765463</td>\n",
       "      <td>0.140387</td>\n",
       "      <td>1.000000</td>\n",
       "      <td>0.698424</td>\n",
       "      <td>0.102775</td>\n",
       "      <td>0.667566</td>\n",
       "      <td>0.218590</td>\n",
       "    </tr>\n",
       "    <tr>\n",
       "      <td>GAZP.ME</td>\n",
       "      <td>0.805626</td>\n",
       "      <td>0.212504</td>\n",
       "      <td>0.698424</td>\n",
       "      <td>1.000000</td>\n",
       "      <td>0.026109</td>\n",
       "      <td>0.494407</td>\n",
       "      <td>-0.167236</td>\n",
       "    </tr>\n",
       "    <tr>\n",
       "      <td>ALRS.ME</td>\n",
       "      <td>0.460002</td>\n",
       "      <td>0.575740</td>\n",
       "      <td>0.102775</td>\n",
       "      <td>0.026109</td>\n",
       "      <td>1.000000</td>\n",
       "      <td>0.559190</td>\n",
       "      <td>0.575017</td>\n",
       "    </tr>\n",
       "    <tr>\n",
       "      <td>SBER.ME</td>\n",
       "      <td>0.877502</td>\n",
       "      <td>0.553099</td>\n",
       "      <td>0.667566</td>\n",
       "      <td>0.494407</td>\n",
       "      <td>0.559190</td>\n",
       "      <td>1.000000</td>\n",
       "      <td>0.571719</td>\n",
       "    </tr>\n",
       "    <tr>\n",
       "      <td>AFLT.ME</td>\n",
       "      <td>0.273406</td>\n",
       "      <td>0.252953</td>\n",
       "      <td>0.218590</td>\n",
       "      <td>-0.167236</td>\n",
       "      <td>0.575017</td>\n",
       "      <td>0.571719</td>\n",
       "      <td>1.000000</td>\n",
       "    </tr>\n",
       "  </tbody>\n",
       "</table>\n",
       "</div>"
      ],
      "text/plain": [
       "Symbols   IMOEX.ME      CL=F      GC=F   GAZP.ME   ALRS.ME   SBER.ME   AFLT.ME\n",
       "Symbols                                                                       \n",
       "IMOEX.ME  1.000000  0.458319  0.765463  0.805626  0.460002  0.877502  0.273406\n",
       "CL=F      0.458319  1.000000  0.140387  0.212504  0.575740  0.553099  0.252953\n",
       "GC=F      0.765463  0.140387  1.000000  0.698424  0.102775  0.667566  0.218590\n",
       "GAZP.ME   0.805626  0.212504  0.698424  1.000000  0.026109  0.494407 -0.167236\n",
       "ALRS.ME   0.460002  0.575740  0.102775  0.026109  1.000000  0.559190  0.575017\n",
       "SBER.ME   0.877502  0.553099  0.667566  0.494407  0.559190  1.000000  0.571719\n",
       "AFLT.ME   0.273406  0.252953  0.218590 -0.167236  0.575017  0.571719  1.000000"
      ]
     },
     "execution_count": 337,
     "metadata": {},
     "output_type": "execute_result"
    }
   ],
   "source": [
    "data.corr()"
   ]
  },
  {
   "cell_type": "markdown",
   "metadata": {},
   "source": [
    "коэффицент корреляции Кендала"
   ]
  },
  {
   "cell_type": "code",
   "execution_count": 338,
   "metadata": {},
   "outputs": [
    {
     "data": {
      "text/html": [
       "<div>\n",
       "<style scoped>\n",
       "    .dataframe tbody tr th:only-of-type {\n",
       "        vertical-align: middle;\n",
       "    }\n",
       "\n",
       "    .dataframe tbody tr th {\n",
       "        vertical-align: top;\n",
       "    }\n",
       "\n",
       "    .dataframe thead th {\n",
       "        text-align: right;\n",
       "    }\n",
       "</style>\n",
       "<table border=\"1\" class=\"dataframe\">\n",
       "  <thead>\n",
       "    <tr style=\"text-align: right;\">\n",
       "      <th>Symbols</th>\n",
       "      <th>IMOEX.ME</th>\n",
       "      <th>CL=F</th>\n",
       "      <th>GC=F</th>\n",
       "      <th>GAZP.ME</th>\n",
       "      <th>ALRS.ME</th>\n",
       "      <th>SBER.ME</th>\n",
       "      <th>AFLT.ME</th>\n",
       "    </tr>\n",
       "    <tr>\n",
       "      <th>Symbols</th>\n",
       "      <th></th>\n",
       "      <th></th>\n",
       "      <th></th>\n",
       "      <th></th>\n",
       "      <th></th>\n",
       "      <th></th>\n",
       "      <th></th>\n",
       "    </tr>\n",
       "  </thead>\n",
       "  <tbody>\n",
       "    <tr>\n",
       "      <td>IMOEX.ME</td>\n",
       "      <td>1.000000</td>\n",
       "      <td>0.402847</td>\n",
       "      <td>0.486152</td>\n",
       "      <td>0.475732</td>\n",
       "      <td>0.399015</td>\n",
       "      <td>0.781338</td>\n",
       "      <td>0.232104</td>\n",
       "    </tr>\n",
       "    <tr>\n",
       "      <td>CL=F</td>\n",
       "      <td>0.402847</td>\n",
       "      <td>1.000000</td>\n",
       "      <td>0.162490</td>\n",
       "      <td>0.234575</td>\n",
       "      <td>0.377134</td>\n",
       "      <td>0.445370</td>\n",
       "      <td>0.168519</td>\n",
       "    </tr>\n",
       "    <tr>\n",
       "      <td>GC=F</td>\n",
       "      <td>0.486152</td>\n",
       "      <td>0.162490</td>\n",
       "      <td>1.000000</td>\n",
       "      <td>0.236627</td>\n",
       "      <td>0.062390</td>\n",
       "      <td>0.499630</td>\n",
       "      <td>0.200528</td>\n",
       "    </tr>\n",
       "    <tr>\n",
       "      <td>GAZP.ME</td>\n",
       "      <td>0.475732</td>\n",
       "      <td>0.234575</td>\n",
       "      <td>0.236627</td>\n",
       "      <td>1.000000</td>\n",
       "      <td>0.102370</td>\n",
       "      <td>0.285984</td>\n",
       "      <td>-0.184582</td>\n",
       "    </tr>\n",
       "    <tr>\n",
       "      <td>ALRS.ME</td>\n",
       "      <td>0.399015</td>\n",
       "      <td>0.377134</td>\n",
       "      <td>0.062390</td>\n",
       "      <td>0.102370</td>\n",
       "      <td>1.000000</td>\n",
       "      <td>0.332371</td>\n",
       "      <td>0.402093</td>\n",
       "    </tr>\n",
       "    <tr>\n",
       "      <td>SBER.ME</td>\n",
       "      <td>0.781338</td>\n",
       "      <td>0.445370</td>\n",
       "      <td>0.499630</td>\n",
       "      <td>0.285984</td>\n",
       "      <td>0.332371</td>\n",
       "      <td>1.000000</td>\n",
       "      <td>0.390326</td>\n",
       "    </tr>\n",
       "    <tr>\n",
       "      <td>AFLT.ME</td>\n",
       "      <td>0.232104</td>\n",
       "      <td>0.168519</td>\n",
       "      <td>0.200528</td>\n",
       "      <td>-0.184582</td>\n",
       "      <td>0.402093</td>\n",
       "      <td>0.390326</td>\n",
       "      <td>1.000000</td>\n",
       "    </tr>\n",
       "  </tbody>\n",
       "</table>\n",
       "</div>"
      ],
      "text/plain": [
       "Symbols   IMOEX.ME      CL=F      GC=F   GAZP.ME   ALRS.ME   SBER.ME   AFLT.ME\n",
       "Symbols                                                                       \n",
       "IMOEX.ME  1.000000  0.402847  0.486152  0.475732  0.399015  0.781338  0.232104\n",
       "CL=F      0.402847  1.000000  0.162490  0.234575  0.377134  0.445370  0.168519\n",
       "GC=F      0.486152  0.162490  1.000000  0.236627  0.062390  0.499630  0.200528\n",
       "GAZP.ME   0.475732  0.234575  0.236627  1.000000  0.102370  0.285984 -0.184582\n",
       "ALRS.ME   0.399015  0.377134  0.062390  0.102370  1.000000  0.332371  0.402093\n",
       "SBER.ME   0.781338  0.445370  0.499630  0.285984  0.332371  1.000000  0.390326\n",
       "AFLT.ME   0.232104  0.168519  0.200528 -0.184582  0.402093  0.390326  1.000000"
      ]
     },
     "execution_count": 338,
     "metadata": {},
     "output_type": "execute_result"
    }
   ],
   "source": [
    "data.corr(method='kendall')"
   ]
  },
  {
   "cell_type": "markdown",
   "metadata": {},
   "source": [
    "т.к все используемые методы работают на нормальных распределениях то"
   ]
  },
  {
   "cell_type": "markdown",
   "metadata": {},
   "source": [
    "Проверим распределения на нормальность"
   ]
  },
  {
   "cell_type": "markdown",
   "metadata": {},
   "source": [
    "Функция проверки на нормальность по тесту Колмогорова-Смирнова"
   ]
  },
  {
   "cell_type": "code",
   "execution_count": 339,
   "metadata": {},
   "outputs": [],
   "source": [
    "def test_for_normal(index_name,alfa):\n",
    "    #cdf - теоретическая функция нормального распределения для выборки index_name\n",
    "    cdf = stats.norm(loc=data[index_name].mean(), scale=data[index_name].std()).cdf \n",
    "    result=stats.kstest(rvs=data[index_name], cdf=cdf)\n",
    "    # t- критическое значение распределения Колмогорова.\n",
    "    t = stats.ksone.ppf(1 - alpha, n=data[index_name].count())\n",
    "    print(index_name,t<result.statistic,result,t)\n"
   ]
  },
  {
   "cell_type": "markdown",
   "metadata": {},
   "source": [
    "проверим гипотезу на нормальность расперделения по тесту Колмогорова-Смирнова. (для всей выборки) "
   ]
  },
  {
   "cell_type": "code",
   "execution_count": 340,
   "metadata": {},
   "outputs": [
    {
     "name": "stdout",
     "output_type": "stream",
     "text": [
      "IMOEX.ME True KstestResult(statistic=0.08710458590517, pvalue=1.1101298775987014e-08) 0.03452305764604628\n",
      "CL=F True KstestResult(statistic=0.05096792980964013, pvalue=0.002961132139166919) 0.03452305764604628\n",
      "GC=F True KstestResult(statistic=0.12335707580410882, pvalue=5.369763086377969e-17) 0.03452305764604628\n",
      "GAZP.ME True KstestResult(statistic=0.24098556838425167, pvalue=3.175660943557935e-64) 0.03452305764604628\n",
      "ALRS.ME True KstestResult(statistic=0.056797135514429, pvalue=0.0006146084882914737) 0.03452305764604628\n",
      "SBER.ME True KstestResult(statistic=0.07686097348607543, pvalue=7.460063907319037e-07) 0.03452305764604628\n",
      "AFLT.ME True KstestResult(statistic=0.09091040249779558, pvalue=2.032270516784042e-09) 0.03452305764604628\n"
     ]
    }
   ],
   "source": [
    "for colum_name in data.columns:\n",
    "    test_for_normal(colum_name,0.05)"
   ]
  },
  {
   "cell_type": "markdown",
   "metadata": {},
   "source": [
    "значение не попали в критическую область тест на нормальность при уровне значимости 0.05 проходит"
   ]
  },
  {
   "cell_type": "markdown",
   "metadata": {},
   "source": [
    "# 3. Уравнение линейной регрессии"
   ]
  },
  {
   "cell_type": "markdown",
   "metadata": {},
   "source": [
    "Построим уравнение линейной регресии методом наименьших квадратов используем 2 показателя цена нефти и цена защитного актива золота "
   ]
  },
  {
   "cell_type": "code",
   "execution_count": 341,
   "metadata": {},
   "outputs": [],
   "source": [
    "def mean_approximation_error(y_real: np.ndarray, y_pred: np.ndarray) -> float:\n",
    "    \"\"\"Средняя ошибка аппроксимации.\n",
    "    \"\"\"\n",
    "    \n",
    "    return np.abs((y_real - y_pred) / y_real).mean()"
   ]
  },
  {
   "cell_type": "code",
   "execution_count": 342,
   "metadata": {},
   "outputs": [],
   "source": [
    "def koef_line(index_name):\n",
    "    x2 = data[['CL=F', 'GC=F']].values\n",
    "    y2 = data[index_name].values.reshape(-1, 1)\n",
    "    ones = np.ones((x2.shape[0], 1))\n",
    "    x2 = np.hstack((ones, x2))\n",
    "    XTX = x2.T.dot(x2)\n",
    "    print('определитель', np.linalg.det(XTX))\n",
    "    XTX_inv = np.linalg.inv(XTX)\n",
    "\n",
    "    b = XTX_inv.dot(x2.T).dot(y2)\n",
    "    z2 = x2.dot(b)\n",
    "    print('R2 коэф детерминации',1 - (z2 - y2).var() / y2.var())\n",
    "    print('Средняя ошибка апроксимации', mean_approximation_error(y2, z2))\n",
    "    return b"
   ]
  },
  {
   "cell_type": "code",
   "execution_count": 343,
   "metadata": {},
   "outputs": [
    {
     "name": "stdout",
     "output_type": "stream",
     "text": [
      "определитель 2499409386831970.0\n",
      "R2 коэф детерминации 0.711508821546232\n",
      "Средняя ошибка апроксимации 0.08416116958405664\n"
     ]
    },
    {
     "data": {
      "text/plain": [
       "array([[-1595.24136596],\n",
       "       [   14.47747629],\n",
       "       [    2.34480058]])"
      ]
     },
     "execution_count": 343,
     "metadata": {},
     "output_type": "execute_result"
    }
   ],
   "source": [
    "b=koef_line('IMOEX.ME')\n",
    "b"
   ]
  },
  {
   "cell_type": "markdown",
   "metadata": {},
   "source": [
    "определитель не равен нулю решения существуют"
   ]
  },
  {
   "cell_type": "markdown",
   "metadata": {},
   "source": [
    "модель регрессии имеет вид:\n",
    "$$y = -1595.24136 + 14.4774 \\cdot x_1 + 2.3448\\cdot x_2,$$\n",
    "где $x_1$ — цена нефти, $x_2$ — цена золота.\n"
   ]
  },
  {
   "cell_type": "markdown",
   "metadata": {},
   "source": [
    "Для остальных эмитентов"
   ]
  },
  {
   "cell_type": "code",
   "execution_count": 344,
   "metadata": {},
   "outputs": [
    {
     "name": "stdout",
     "output_type": "stream",
     "text": [
      "GAZP.ME\n",
      "определитель 2499409386831970.0\n",
      "R2 коэф детерминации 0.5011594645414632\n",
      "Средняя ошибка апроксимации 0.13350174212369065\n",
      "b [[-129.44063253]\n",
      " [   0.43496808]\n",
      " [   0.20593775]]\n",
      "y=[-129.44063253]+[0.43496808]x1+[0.20593775]x2\n",
      "ALRS.ME\n",
      "определитель 2499409386831970.0\n",
      "R2 коэф детерминации 0.3319682306168623\n",
      "Средняя ошибка апроксимации 0.1147688552572323\n",
      "b [[3.59243687e+01]\n",
      " [8.00757208e-01]\n",
      " [2.53781924e-03]]\n",
      "y=[35.92436866]+[0.80075721]x1+[0.00253782]x2\n",
      "SBER.ME\n",
      "определитель 2499409386831970.0\n",
      "R2 коэф детерминации 0.6609190570924006\n",
      "Средняя ошибка апроксимации 0.22820019540847555\n",
      "b [[-3.69808014e+02]\n",
      " [ 2.89943869e+00]\n",
      " [ 3.01775037e-01]]\n",
      "y=[-369.80801365]+[2.89943869]x1+[0.30177504]x2\n",
      "AFLT.ME\n",
      "определитель 2499409386831970.0\n",
      "R2 коэф детерминации 0.09817674828095646\n",
      "Средняя ошибка апроксимации 0.44369710976600296\n",
      "b [[-45.52468653]\n",
      " [  1.10987165]\n",
      " [  0.07409482]]\n",
      "y=[-45.52468653]+[1.10987165]x1+[0.07409482]x2\n"
     ]
    }
   ],
   "source": [
    "for colum_name in data.columns[3:]:\n",
    "    print(colum_name)\n",
    "    b=koef_line(colum_name)\n",
    "    print('b', b)\n",
    "    print(f'y={b[0]}+{b[1]}x1+{b[2]}x2')"
   ]
  },
  {
   "cell_type": "markdown",
   "metadata": {},
   "source": [
    "### Оценка значимости уравнения линейной регрессии\n",
    "\n",
    "Оценить статистическую значимость уравнения линейной регрессии в целом можно с помощью __F-критерия Фишера__. Проверяется нулевая гипотеза о том, что все коэффициенты при факторах у регрессионной модели равны нулю (т.е. модель представляет из себя горизонтальную плоскость.)\n",
    "\n",
    "$$F = \\dfrac{R^2 / k}{(1 - R^2) / (n - k - 1)},$$\n",
    "где $R^2$ — коэффициент детерминации, $n$ — число наблюдений, $k$ — число факторов.\n",
    "\n",
    "Если $F > F_{crit}$, то нулевая гипотеза отвергается и уравнение регрессии признаётся статистически значимым."
   ]
  },
  {
   "cell_type": "code",
   "execution_count": 345,
   "metadata": {},
   "outputs": [],
   "source": [
    "def F_Fcrit(index_name): \n",
    "    k1 = 2\n",
    "    k2 = data[index_name].count()-k1-1\n",
    "    F2 = (R2 / k1) / ((1 - R2) / k2)\n",
    "    F_crit = stats.f.ppf(1 - alpha, k1, k2)\n",
    "    print(f'F критерий {F2}, F_crit {F_crit}')\n",
    "    if F2>F_crit:\n",
    "        print (f'F>F_crit уравнение статистич значимо')\n",
    "    else:    \n",
    "        print (f'F<F_crit уравнение не значимо, подтверждена нулевая гипотеза')  "
   ]
  },
  {
   "cell_type": "code",
   "execution_count": 346,
   "metadata": {},
   "outputs": [
    {
     "name": "stdout",
     "output_type": "stream",
     "text": [
      "F критерий 1534.045128775673, F_crit 3.002958026776551\n",
      "F>F_crit уравнение статистич значимо\n"
     ]
    }
   ],
   "source": [
    "F_Fcrit('IMOEX.ME')"
   ]
  },
  {
   "cell_type": "markdown",
   "metadata": {},
   "source": [
    "для остальных эмитентов"
   ]
  },
  {
   "cell_type": "code",
   "execution_count": 347,
   "metadata": {},
   "outputs": [
    {
     "name": "stdout",
     "output_type": "stream",
     "text": [
      "GAZP.ME\n",
      "F критерий 1534.045128775673, F_crit 3.002958026776551\n",
      "F>F_crit уравнение статистич значимо\n",
      "ALRS.ME\n",
      "F критерий 1534.045128775673, F_crit 3.002958026776551\n",
      "F>F_crit уравнение статистич значимо\n",
      "SBER.ME\n",
      "F критерий 1534.045128775673, F_crit 3.002958026776551\n",
      "F>F_crit уравнение статистич значимо\n",
      "AFLT.ME\n",
      "F критерий 1534.045128775673, F_crit 3.002958026776551\n",
      "F>F_crit уравнение статистич значимо\n"
     ]
    }
   ],
   "source": [
    "for colum_name in data.columns[3:]:\n",
    "    print(colum_name)\n",
    "    F_Fcrit(colum_name)\n",
    "    "
   ]
  },
  {
   "cell_type": "markdown",
   "metadata": {},
   "source": [
    "# 4. Построим модель линейной регресии с помощью библиотеки sklearn LinearRegression"
   ]
  },
  {
   "cell_type": "code",
   "execution_count": 348,
   "metadata": {},
   "outputs": [],
   "source": [
    "feature_names=['CL=F','GC=F']\n",
    "X = data[feature_names]\n",
    "y = data['IMOEX.ME']"
   ]
  },
  {
   "cell_type": "code",
   "execution_count": 349,
   "metadata": {},
   "outputs": [],
   "source": [
    "X_train, X_test, y_train, y_test = train_test_split(X, y, test_size=0.33, shuffle=True, random_state=21)"
   ]
  },
  {
   "cell_type": "code",
   "execution_count": 350,
   "metadata": {},
   "outputs": [
    {
     "data": {
      "text/plain": [
       "LinearRegression(copy_X=True, fit_intercept=True, n_jobs=None, normalize=False)"
      ]
     },
     "execution_count": 350,
     "metadata": {},
     "output_type": "execute_result"
    }
   ],
   "source": [
    "lr_model = LinearRegression()\n",
    "lr_model.fit(X_train, y_train)"
   ]
  },
  {
   "cell_type": "code",
   "execution_count": 351,
   "metadata": {},
   "outputs": [],
   "source": [
    "def evaluate_preds(true_values, pred_values):\n",
    "    print(\"R2 коэфф детерминация: \\t\" + str(round(r2(true_values, pred_values), 3)) + \"\\n\" +\n",
    "          \"MAE:\\t\" + str(round(mae(true_values, pred_values), 3)) + \"\\n\" +\n",
    "          \"MSE:\\t\" + str(round(mse(true_values, pred_values), 3)))\n",
    "    \n",
    "    plt.figure(figsize=(10,10))\n",
    "    \n",
    "    sns.scatterplot(x=pred_values, y=true_values)\n",
    "    \n",
    "    plt.xlabel('Predicted values')\n",
    "    plt.ylabel('True values')\n",
    "    plt.title('True vs Predicted values')\n",
    "    plt.show()"
   ]
  },
  {
   "cell_type": "code",
   "execution_count": 352,
   "metadata": {},
   "outputs": [
    {
     "name": "stdout",
     "output_type": "stream",
     "text": [
      "R2 коэфф детерминация: \t0.698\n",
      "MAE:\t178.324\n",
      "MSE:\t44739.499\n"
     ]
    },
    {
     "data": {
      "image/png": "[encoded data removed]",
      "text/plain": [
       "<Figure size 720x720 with 1 Axes>"
      ]
     },
     "metadata": {
      "needs_background": "light"
     },
     "output_type": "display_data"
    }
   ],
   "source": [
    "y_train_preds = lr_model.predict(X_train)\n",
    "evaluate_preds(y_train, y_train_preds)"
   ]
  },
  {
   "cell_type": "code",
   "execution_count": 353,
   "metadata": {},
   "outputs": [
    {
     "name": "stdout",
     "output_type": "stream",
     "text": [
      "R2 коэфф детерминация: \t0.736\n",
      "MAE:\t173.996\n",
      "MSE:\t42206.445\n"
     ]
    },
    {
     "data": {
      "image/png": "[encoded data removed]",
      "text/plain": [
       "<Figure size 720x720 with 1 Axes>"
      ]
     },
     "metadata": {
      "needs_background": "light"
     },
     "output_type": "display_data"
    }
   ],
   "source": [
    "y_test_preds = lr_model.predict(X_test)\n",
    "evaluate_preds(y_test, y_test_preds)"
   ]
  },
  {
   "cell_type": "markdown",
   "metadata": {},
   "source": [
    "# Вывод:\n",
    "    \n",
    "в ходе работы были проаназилированы данные за период с 2015-01-01 по 2020-03-31\n",
    "произведена статистическая оценка зависимости индекса Мосбиржи от цены на нефть и цены на золото\n",
    "построено уравнение линейой регресии. сами данных присутствует линейная зависимость.\n",
    "Вполне возможно что использование других методов регресии дадут более качественный результат.\n",
    " "
   ]
  }
 ],
 "metadata": {
  "kernelspec": {
   "display_name": "Python 3",
   "language": "python",
   "name": "python3"
  },
  "language_info": {
   "codemirror_mode": {
    "name": "ipython",
    "version": 3
   },
   "file_extension": ".py",
   "mimetype": "text/x-python",
   "name": "python",
   "nbconvert_exporter": "python",
   "pygments_lexer": "ipython3",
   "version": "3.7.4"
  }
 },
 "nbformat": 4,
 "nbformat_minor": 2
}
